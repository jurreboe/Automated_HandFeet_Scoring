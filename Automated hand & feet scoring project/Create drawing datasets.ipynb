{
 "cells": [
  {
   "cell_type": "code",
   "execution_count": 8,
   "metadata": {},
   "outputs": [
    {
     "name": "stdout",
     "output_type": "stream",
     "text": [
      "done2\n"
     ]
    }
   ],
   "source": [
    "import pydicom\n",
    "import PIL\n",
    "from PIL import Image\n",
    "from PIL import ImageOps\n",
    "import numpy as np\n",
    "import os\n",
    "from PIL.Image import fromarray\n",
    "from pydicom.pixel_data_handlers.util import apply_voi_lut\n",
    "from pydicom.pixel_data_handlers.util import apply_modality_lut\n",
    "import cv2\n",
    "from skimage import color\n",
    "import matplotlib.pyplot as plt\n",
    "import matplotlib.image as mpimg\n",
    "import random\n",
    "from pathlib import Path\n",
    "\n",
    "\n",
    "print(\"done2\")"
   ]
  },
  {
   "cell_type": "code",
   "execution_count": 4,
   "metadata": {},
   "outputs": [],
   "source": [
    "def get_names(path):\n",
    "    paths = []\n",
    "    names = []\n",
    "    for root, dirnames, filenames in os.walk(path):\n",
    "        for filename in filenames:\n",
    "            _, ext = os.path.splitext(filename)\n",
    "            if ext in ['.png'] or ext in ['.jpg']:\n",
    "                names.append(filename)\n",
    "                path_ = root+\"/\"+filename\n",
    "#                 pID = root.replace((os.path.dirname(root)+\"/\"), '')\n",
    "#                 root_ = root\n",
    "                paths.append(path_)\n",
    "    return (paths, names)"
   ]
  },
  {
   "cell_type": "code",
   "execution_count": 10,
   "metadata": {},
   "outputs": [
    {
     "name": "stdout",
     "output_type": "stream",
     "text": [
      "1418\n",
      "1385\n",
      "200\n",
      "200\n",
      "20\n"
     ]
    }
   ],
   "source": [
    "random.seed(42)\n",
    "\n",
    "### Get the file names and file paths and create random samples from them\n",
    "## bro waarom ben ik zo, wrm moeilijk doen met dicts als je alles wat je nodig hebt ook in de pathname staat :)(())\n",
    "\n",
    "path = \"/Users/jurreboellen/MCL werk documenten/clean GLORIA\"\n",
    "paths, names = get_names(path)\n",
    "\n",
    "pthH = [x for x in paths if \"HL\" in x or \"HR\" in x]\n",
    "pthF = [x for x in paths if \"FL\" in x or \"FR\" in x]\n",
    "\n",
    "print(len(pthH))\n",
    "print(len(pthF))\n",
    "\n",
    "# print(paths['/Users/jurreboellen/MCL werk documenten/clean GLORIA/clean GLORIA 12/501059-B_B/HR/501059-b-hand-both.dcm.png'])\n",
    "\n",
    "### hands part\n",
    "trainDirH = \"/Users/jurreboellen/MCL werk documenten/Drawing training data (Hands)\"\n",
    "testDirH = \"/Users/jurreboellen/MCL werk documenten/Drawing testing data (Hands)\"\n",
    "\n",
    "trainNumber = 200\n",
    "trainSampleH = random.sample(pthH, trainNumber)\n",
    "\n",
    "\n",
    "# Make sure that the testSample does not contain items from the train sample\n",
    "paths_wo_trainH = [x for x in pthH if x not in trainSampleH]\n",
    "# paths_wo_train = dict([ (k,r) for k,r in paths.items() if k not in trainSample])\n",
    "\n",
    "\n",
    "testNumber = 20\n",
    "testSampleH = random.sample(paths_wo_trainH, testNumber)\n",
    "\n",
    "### feet part\n",
    "trainDirF = \"/Users/jurreboellen/MCL werk documenten/Drawing training data (Feet)\"\n",
    "testDirF = \"/Users/jurreboellen/MCL werk documenten/Drawing testing data (Feet)\"\n",
    "\n",
    "trainNumber = 200\n",
    "trainSampleF = random.sample(pthF, trainNumber)\n",
    "\n",
    "\n",
    "# Make sure that the testSample does not contain items from the train sample\n",
    "paths_wo_trainF = [x for x in pthF if x not in trainSampleF]\n",
    "# paths_wo_train = dict([ (k,r) for k,r in paths.items() if k not in trainSample])\n",
    "\n",
    "\n",
    "testNumber = 20\n",
    "testSampleF = random.sample(paths_wo_trainF, testNumber)\n",
    "\n",
    "print(len(trainSampleH))\n",
    "print(len(trainSampleF))\n",
    "print(len(testSampleH))\n",
    "# print(sampleTest)\n",
    "# print(testSample)"
   ]
  },
  {
   "cell_type": "code",
   "execution_count": 11,
   "metadata": {},
   "outputs": [],
   "source": [
    "def createDataSet (directory , sampleList):\n",
    "    Path(directory).mkdir(parents=True, exist_ok=False)\n",
    "    setcounter = 0\n",
    "    Nset = 0\n",
    "    for file in sampleList:\n",
    "        split = file.split('/')\n",
    "        newFileName = split[-4][5:] + \"_\" + split[-3] + \"_\" + split[-2] + \".png\"\n",
    "        img = cv2.imread(file)\n",
    "        \n",
    "        if setcounter % 10 == 0:\n",
    "            Nset += 1\n",
    "        \n",
    "        newdir = directory + \"/\" + \"set \" + str(Nset)\n",
    "        Path(newdir).mkdir(parents=True, exist_ok=True)\n",
    "        cv2.imwrite(newdir + '/' + newFileName, img)\n",
    "        \n",
    "        setcounter += 1\n",
    "\n",
    "\n",
    "createDataSet(trainDirH, trainSampleH)\n",
    "createDataSet(testDirH, testSampleH)\n",
    "createDataSet(trainDirF, trainSampleF)\n",
    "createDataSet(testDirF, testSampleF)\n",
    "    \n",
    "    "
   ]
  },
  {
   "cell_type": "code",
   "execution_count": 82,
   "metadata": {},
   "outputs": [
    {
     "name": "stdout",
     "output_type": "stream",
     "text": [
      "['im-0001-0001-0003.dcm.png', 'im-0001-0001-0001.dcm.png', 'im-0001-0001-0004.dcm.png', 'im-0001-0001-0002.dcm.png', 'im-0001-0001-0003.dcm.png', 'im-0001-0001-0001.dcm.png', 'im-0001-0001-0004.dcm.png', 'im-0001-0001-0002.dcm.png', 'im-0001-0001-0004.dcm.png', 'im-0001-0001-0001.dcm.png', 'im-0001-0001-0003.dcm.png', 'im-0001-0001-0002.dcm.png', 'im-0001-0001-0003.dcm.png', 'im-0001-0001-0002.dcm.png', 'im-0001-0001-0004.dcm.png', 'im-0001-0001-0001.dcm.png', 'im-0001-0001-0001.dcm.png', 'im-0001-0001-0003.dcm.png', 'im-0001-0001-0002.dcm.png', 'im-0001-0001-0004.dcm.png', 'im-0001-0001-0003.dcm.png', 'im-0001-0001-0002.dcm.png', 'im-0001-0001-0004.dcm.png', 'im-0001-0001-0001.dcm.png', 'im-0001-0001-0004.dcm.png', 'im-0001-0001-0001.dcm.png', 'im-0001-0001-0003.dcm.png', 'im-0001-0001-0002.dcm.png', 'im-0001-0001-0003.dcm.png', 'im-0001-0001-0001.dcm.png', 'im-0001-0001-0004.dcm.png', 'im-0001-0001-0002.dcm.png', 'im-0001-0001-0003.dcm.png', 'im-0001-0001-0001.dcm.png', 'im-0001-0001-0004.dcm.png', 'im-0001-0001-0002.dcm.png', 'im-0001-0001-0003.dcm.png', 'im-0001-0001-0001.dcm.png', 'im-0001-0001-0004.dcm.png', 'im-0001-0001-0002.dcm.png', 'im-0001-0001-0001.dcm.png', 'im-0001-0001-0003.dcm.png', 'im-0001-0001-0002.dcm.png', 'im-0001-0001-0004.dcm.png', 'im-0001-0001-0001.dcm.png', 'im-0001-0001-0004.dcm.png', 'im-0001-0001-0002.dcm.png', 'im-0001-0001-0003.dcm.png', 'im-0001-0001-0003.dcm.png', 'im-0001-0001-0001.dcm.png', 'im-0001-0001-0004.dcm.png', 'im-0001-0001-0002.dcm.png', 'im-0001-0001-0003.dcm.png', 'im-0001-0001-0001.dcm.png', 'im-0001-0001-0004.dcm.png', 'im-0001-0001-0002.dcm.png', 'im-0001-0001-0003.dcm.png', 'im-0001-0001-0001.dcm.png', 'im-0001-0001-0004.dcm.png', 'im-0001-0001-0002.dcm.png', 'im-0001-0001-0003.dcm.png', 'im-0001-0001-0001.dcm.png', 'im-0001-0001-0004.dcm.png', 'im-0001-0001-0002.dcm.png', 'im-0001-0001-0003.dcm.png', 'im-0001-0001-0001.dcm.png', 'im-0001-0001-0004.dcm.png', 'im-0001-0001-0002.dcm.png', 'im-0001-0001-0003.dcm.png', 'im-0001-0001-0001.dcm.png', 'im-0001-0001-0004.dcm.png', 'im-0001-0001-0002.dcm.png', 'im-0001-0001-0003.dcm.png', 'im-0001-0001-0001.dcm.png', 'im-0001-0001-0004.dcm.png', 'im-0001-0001-0002.dcm.png', 'im-0001-0001-0001.dcm.png', 'im-0001-0001-0003.dcm.png', 'im-0001-0001-0002.dcm.png', 'im-0001-0001-0004.dcm.png', 'im-0001-0001-0004.dcm.png', 'im-0001-0001-0001.dcm.png', 'im-0001-0001-0003.dcm.png', 'im-0001-0001-0002.dcm.png', 'im-0001-0001-0003.dcm.png', 'im-0001-0001-0002.dcm.png', 'im-0001-0001-0004.dcm.png', 'im-0001-0001-0001.dcm.png', 'im-0001-0001-0004.dcm.png', 'im-0001-0001-0001.dcm.png', 'im-0001-0001-0003.dcm.png', 'im-0001-0001-0002.dcm.png', 'im-0001-0001-0003.dcm.png', 'im-0001-0001-0001.dcm.png', 'im-0001-0001-0004.dcm.png', 'im-0001-0001-0002.dcm.png', 'im-0001-0001-0004.dcm.png', 'im-0001-0001-0001.dcm.png', 'im-0001-0001-0003.dcm.png', 'im-0001-0001-0002.dcm.png', 'im-0001-0001-0003.dcm.png', 'im-0001-0001-0001.dcm.png', 'im-0001-0001-0004.dcm.png', 'im-0001-0001-0002.dcm.png', 'im-0001-0001-0003.dcm.png', 'im-0001-0001-0001.dcm.png', 'im-0001-0001-0004.dcm.png', 'im-0001-0001-0002.dcm.png', 'im-0001-0001-0003.dcm.png', 'im-0001-0001-0001.dcm.png', 'im-0001-0001-0004.dcm.png', 'im-0001-0001-0002.dcm.png', 'im-0001-0001-0003.dcm.png', 'im-0001-0001-0001.dcm.png', 'im-0001-0001-0004.dcm.png', 'im-0001-0001-0002.dcm.png', 'im-0001-0001-0003.dcm.png', 'im-0001-0001-0001.dcm.png', 'im-0001-0001-0004.dcm.png', 'im-0001-0001-0002.dcm.png', 'im-0001-0001-0003.dcm.png', 'im-0001-0001-0001.dcm.png', 'im-0001-0001-0004.dcm.png', 'im-0001-0001-0002.dcm.png', 'im-0001-0001-0003.dcm.png', 'im-0001-0001-0001.dcm.png', 'im-0001-0001-0004.dcm.png', 'im-0001-0001-0002.dcm.png', 'im-0001-0001-0003.dcm.png', 'im-0001-0001-0001.dcm.png', 'im-0001-0001-0004.dcm.png', 'im-0001-0001-0002.dcm.png', 'im-0001-0001-0003.dcm.png', 'im-0001-0001-0001.dcm.png', 'im-0001-0001-0004.dcm.png', 'im-0001-0001-0002.dcm.png', 'im-0001-0001-0003.dcm.png', 'im-0001-0001-0002.dcm.png', 'im-0001-0001-0004.dcm.png', 'im-0001-0001-0001.dcm.png', 'im-0001-0001-0003.dcm.png', 'im-0001-0001-0002.dcm.png', 'im-0001-0001-0004.dcm.png', 'im-0001-0001-0001.dcm.png', 'im-0001-0001-0003.dcm.png', 'im-0001-0001-0002.dcm.png', 'im-0001-0001-0004.dcm.png', 'im-0001-0001-0001.dcm.png', 'im-0001-0001-0003.dcm.png', 'im-0001-0001-0002.dcm.png', 'im-0001-0001-0004.dcm.png', 'im-0001-0001-0001.dcm.png', 'im-0001-0001-0003.dcm.png', 'im-0001-0001-0001.dcm.png', 'im-0001-0001-0004.dcm.png', 'im-0001-0001-0002.dcm.png']\n"
     ]
    }
   ],
   "source": [
    "# kutzooi = list(set(filesReal) - set(files))\n",
    "# print(len(kutzooi))\n",
    "# print(len(files))\n",
    "# print(len(filesReal))\n",
    "\n",
    "new = [x for x in names if \"both\" not in x and \"bdz\" not in x and \"hands\" not in x and \"feet\" not in x and \"left&right\" not in x]\n",
    "\n",
    "seen = set()\n",
    "dupes = [x for x in new if x in seen or seen.add(x)]    \n",
    "print(dupes)\n",
    "\n",
    "# print(filesReal.keys())\n",
    "# for i in range(199):\n",
    "#     print()\n",
    "#     print(i)\n",
    "#     print(sorted(files)[i])\n",
    "#     print(sorted(filesReal.keys())[i].split('/')[-1])\n"
   ]
  },
  {
   "cell_type": "code",
   "execution_count": null,
   "metadata": {},
   "outputs": [],
   "source": []
  }
 ],
 "metadata": {
  "kernelspec": {
   "display_name": "Python 3",
   "language": "python",
   "name": "python3"
  },
  "language_info": {
   "codemirror_mode": {
    "name": "ipython",
    "version": 3
   },
   "file_extension": ".py",
   "mimetype": "text/x-python",
   "name": "python",
   "nbconvert_exporter": "python",
   "pygments_lexer": "ipython3",
   "version": "3.7.9"
  }
 },
 "nbformat": 4,
 "nbformat_minor": 4
}
