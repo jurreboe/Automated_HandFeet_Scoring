{
 "cells": [
  {
   "cell_type": "code",
   "execution_count": 32,
   "metadata": {},
   "outputs": [
    {
     "name": "stdout",
     "output_type": "stream",
     "text": [
      "3.7.9 (default, Aug 31 2020, 07:22:35) \n",
      "[Clang 10.0.0 ]\n"
     ]
    }
   ],
   "source": [
    "import os\n",
    "import sys\n",
    "print(sys.version)\n",
    "import numpy as np\n",
    "import cv2\n",
    "import pandas as pd\n",
    "import shutil"
   ]
  },
  {
   "cell_type": "code",
   "execution_count": 12,
   "metadata": {},
   "outputs": [],
   "source": [
    "handFolder = \"/Users/jurreboellen/Downloads/project-19-at-2022-12-07-14-23-2a5bee33\"\n",
    "handOrigin = \"/Users/jurreboellen/Downloads/project-19-at-2022-12-13-13-09-2a5bee33.csv\"\n",
    "hands = \"/Users/jurreboellen/Downloads/hands\"\n",
    "\n",
    "footFolder = \"/Users/jurreboellen/Downloads/project-20-at-2022-12-12-15-19-2de50f88\"\n",
    "footOrigin = \"/Users/jurreboellen/Downloads/project-20-at-2022-12-12-15-20-2de50f88.csv\"\n",
    "feet = \"/Users/jurreboellen/Downloads/feet\"\n"
   ]
  },
  {
   "cell_type": "code",
   "execution_count": 36,
   "metadata": {},
   "outputs": [
    {
     "name": "stdout",
     "output_type": "stream",
     "text": [
      "50\n"
     ]
    }
   ],
   "source": [
    "df_h = pd.read_csv(handOrigin)\n",
    "df_f = pd.read_csv(footOrigin)\n",
    "# print(df_h['image'])\n",
    "\n",
    "# print(df_h.loc[0,'image'])\n",
    "\n",
    "# print(df_h['id'])\n",
    "print(len(df_h['id']))"
   ]
  },
  {
   "cell_type": "code",
   "execution_count": 19,
   "metadata": {},
   "outputs": [],
   "source": [
    "def get_names(path):\n",
    "    names = []\n",
    "    paths = []\n",
    "    pIDs = []\n",
    "    for root, dirnames, filenames in os.walk(path):\n",
    "        for filename in filenames:\n",
    "            _, ext = os.path.splitext(filename)\n",
    "            if ext in ['.png']:\n",
    "                names.append(filename)\n",
    "                paths.append(root+\"/\"+filename)\n",
    "                pIDs.append(root.replace((os.path.dirname(root)+\"/\"), ''))\n",
    "#                 print()\n",
    "#                 print(root)\n",
    "#                 print(filename)\n",
    "#                 print(root.replace((os.path.dirname(root)+\"/\"), ''))\n",
    "    return paths"
   ]
  },
  {
   "cell_type": "code",
   "execution_count": 37,
   "metadata": {},
   "outputs": [],
   "source": [
    "handPaths = get_names(hands)\n",
    "handDrawPaths = get_names(handFolder)\n",
    "footPaths = get_names(feet)\n",
    "footDrawPaths = get_names(footFolder)\n",
    "\n",
    "\n",
    "\n",
    "# for i in range(50):\n",
    "#     id = str(df_h.loc[i, \"id\"])\n",
    "#     image = df_h.loc[i, \"image\"][-11:].replace(\"-\",\"\")\n",
    "#     currentPath = [i for i in handPaths if image in i]\n",
    "#     currentDrawPath =[i for i in handDrawPaths if id in i]\n",
    "#     fldrName = 151 + i\n",
    "#     trgFolder = \"/Users/jurreboellen/Downloads/\" + str(fldrName)\n",
    "#     os.mkdir(trgFolder)\n",
    "#     for j in currentPath:\n",
    "#         shutil.copy2(j, trgFolder)\n",
    "#     for j in currentDrawPath:\n",
    "#         shutil.copy2(j, trgFolder)\n",
    "\n",
    "for i in range(50):\n",
    "    id = str(df_f.loc[i, \"id\"])\n",
    "    image = df_f.loc[i, \"image\"][-11:].replace(\"-\",\"\")\n",
    "    currentPath = [i for i in footPaths if image in i]\n",
    "    currentDrawPath =[i for i in footDrawPaths if id in i]\n",
    "    fldrName = 151 + i\n",
    "    trgFolder = \"/Users/jurreboellen/Downloads/\" + str(fldrName)\n",
    "    os.mkdir(trgFolder)\n",
    "    for j in currentPath:\n",
    "        shutil.copy2(j, trgFolder)\n",
    "    for j in currentDrawPath:\n",
    "        shutil.copy2(j, trgFolder)\n"
   ]
  },
  {
   "cell_type": "code",
   "execution_count": null,
   "metadata": {},
   "outputs": [],
   "source": []
  }
 ],
 "metadata": {
  "kernelspec": {
   "display_name": "Python 3.7.9 ('base')",
   "language": "python",
   "name": "python3"
  },
  "language_info": {
   "codemirror_mode": {
    "name": "ipython",
    "version": 3
   },
   "file_extension": ".py",
   "mimetype": "text/x-python",
   "name": "python",
   "nbconvert_exporter": "python",
   "pygments_lexer": "ipython3",
   "version": "3.7.9"
  },
  "orig_nbformat": 4,
  "vscode": {
   "interpreter": {
    "hash": "141c4fb064fed8c3dd8772b15b986ca1a00be1ae7d21adc5232204f152bc0a8d"
   }
  }
 },
 "nbformat": 4,
 "nbformat_minor": 2
}
